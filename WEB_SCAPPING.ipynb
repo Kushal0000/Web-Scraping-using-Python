{
 "cells": [
  {
   "cell_type": "markdown",
   "id": "8c320342-ecbf-4f6c-b5ce-bcf24550747b",
   "metadata": {},
   "source": [
    "WEB SCRAPPING FROM REAL WEBSITE"
   ]
  },
  {
   "cell_type": "code",
   "execution_count": 13,
   "id": "238d203a-f592-460b-a1fe-76ce90bf0476",
   "metadata": {},
   "outputs": [],
   "source": [
    "from bs4 import BeautifulSoup\n",
    "import requests"
   ]
  },
  {
   "cell_type": "code",
   "execution_count": 15,
   "id": "b22ed011-1b53-4079-99de-79d94b4af932",
   "metadata": {},
   "outputs": [],
   "source": [
    "url = 'https://en.wikipedia.org/wiki/List_of_largest_companies_in_the_United_States_by_revenue'\n",
    "page = requests.get(url)\n",
    "soup = BeautifulSoup(page.text, 'html')\n",
    "table = soup.find_all('table')[0]"
   ]
  },
  {
   "cell_type": "code",
   "execution_count": 35,
   "id": "4055601b-4c82-4004-bf54-ee849938baa9",
   "metadata": {},
   "outputs": [],
   "source": [
    "world_titles = table.find_all('th')\n",
    "\n",
    "world_table_titles = [title.text.strip() for title in world_titles]\n",
    "import pandas as pd\n",
    "df = pd.DataFrame(columns = world_table_titles)\n"
   ]
  },
  {
   "cell_type": "code",
   "execution_count": 42,
   "id": "031e0f6e-c02f-4e7b-8098-b685a027a0bc",
   "metadata": {},
   "outputs": [],
   "source": [
    "\n",
    "column_data = table.find_all('tr')\n",
    "for row in column_data[1:]:\n",
    "    row_data = row.find_all('td')\n",
    "    individual_row_data = [data.text.strip() for data in row_data]\n",
    "    length = len(df)\n",
    "    df.loc[length] = individual_row_data"
   ]
  },
  {
   "cell_type": "code",
   "execution_count": 46,
   "id": "d4367ba5-6e0e-433d-82b9-37eb19076d83",
   "metadata": {},
   "outputs": [],
   "source": [
    "df\n",
    "df.to_csv(r'C:\\Users\\kusha\\OneDrive\\Desktop\\Projects\\Python\\Web_Scraping\\Output.csv', index= False)"
   ]
  },
  {
   "cell_type": "code",
   "execution_count": null,
   "id": "d9630280-3639-4bcf-8694-3331f0eb4f82",
   "metadata": {},
   "outputs": [],
   "source": []
  },
  {
   "cell_type": "code",
   "execution_count": null,
   "id": "903d20c8-5c5d-4325-9580-239009953f21",
   "metadata": {},
   "outputs": [],
   "source": []
  },
  {
   "cell_type": "code",
   "execution_count": null,
   "id": "090c3d07-0163-47e8-8bde-cdb690a2be6b",
   "metadata": {},
   "outputs": [],
   "source": []
  },
  {
   "cell_type": "code",
   "execution_count": null,
   "id": "59d61101-a708-4bce-9782-3f604fbbb045",
   "metadata": {},
   "outputs": [],
   "source": []
  },
  {
   "cell_type": "code",
   "execution_count": null,
   "id": "f516c680-be3c-4e5c-a58f-0fef708c6aff",
   "metadata": {},
   "outputs": [],
   "source": []
  },
  {
   "cell_type": "code",
   "execution_count": null,
   "id": "c0a956d2-73c9-4cfe-968e-5533406d6b49",
   "metadata": {},
   "outputs": [],
   "source": []
  },
  {
   "cell_type": "code",
   "execution_count": null,
   "id": "83622aa4-9d69-4d07-9e6e-e51cafe3a1cb",
   "metadata": {},
   "outputs": [],
   "source": []
  },
  {
   "cell_type": "code",
   "execution_count": null,
   "id": "5f4d2ba9-a919-4d30-bbe1-411eeb499def",
   "metadata": {},
   "outputs": [],
   "source": []
  },
  {
   "cell_type": "code",
   "execution_count": null,
   "id": "8e34509a-a282-49a6-bfbb-8716cad7d8d5",
   "metadata": {},
   "outputs": [],
   "source": []
  },
  {
   "cell_type": "code",
   "execution_count": null,
   "id": "81eefa4d-9dda-44a7-ac3c-ceb3642ced10",
   "metadata": {},
   "outputs": [],
   "source": []
  },
  {
   "cell_type": "code",
   "execution_count": null,
   "id": "f6ec5382-d914-4faf-9c49-1cdf66e36239",
   "metadata": {},
   "outputs": [],
   "source": []
  },
  {
   "cell_type": "code",
   "execution_count": null,
   "id": "9583f309-b5b8-45f0-aa68-44f993527c1b",
   "metadata": {},
   "outputs": [],
   "source": []
  },
  {
   "cell_type": "code",
   "execution_count": null,
   "id": "c589d4c7-fb47-4630-906c-6ce3ed2ab345",
   "metadata": {},
   "outputs": [],
   "source": []
  },
  {
   "cell_type": "code",
   "execution_count": null,
   "id": "73119f41-d241-42af-b493-23708e691227",
   "metadata": {},
   "outputs": [],
   "source": []
  },
  {
   "cell_type": "code",
   "execution_count": null,
   "id": "d5a01a48-09a7-48d5-9f58-dc5786cd1d1f",
   "metadata": {},
   "outputs": [],
   "source": []
  },
  {
   "cell_type": "code",
   "execution_count": null,
   "id": "f4b7f55c-d095-49ea-86ff-e8af876587f8",
   "metadata": {},
   "outputs": [],
   "source": []
  },
  {
   "cell_type": "code",
   "execution_count": null,
   "id": "f2f9bbfa-da9e-49e6-b787-9dbf6d62eb45",
   "metadata": {},
   "outputs": [],
   "source": []
  },
  {
   "cell_type": "code",
   "execution_count": null,
   "id": "bfaef612-8f1e-470e-a75a-70a6f1ac9483",
   "metadata": {},
   "outputs": [],
   "source": []
  }
 ],
 "metadata": {
  "kernelspec": {
   "display_name": "Python [conda env:base] *",
   "language": "python",
   "name": "conda-base-py"
  },
  "language_info": {
   "codemirror_mode": {
    "name": "ipython",
    "version": 3
   },
   "file_extension": ".py",
   "mimetype": "text/x-python",
   "name": "python",
   "nbconvert_exporter": "python",
   "pygments_lexer": "ipython3",
   "version": "3.12.7"
  }
 },
 "nbformat": 4,
 "nbformat_minor": 5
}
